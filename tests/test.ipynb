{
 "cells": [
  {
   "cell_type": "code",
   "execution_count": null,
   "id": "deb1d910",
   "metadata": {
    "vscode": {
     "languageId": "plaintext"
    }
   },
   "outputs": [],
   "source": [
    "from src.services.openai_client import get_analysis_from_analyzer\n",
    "print(get_analysis_from_analyzer(\"Explain how to compute the area of a triangle step by step.\"))\n"
   ]
  }
 ],
 "metadata": {
  "language_info": {
   "name": "python"
  }
 },
 "nbformat": 4,
 "nbformat_minor": 5
}
